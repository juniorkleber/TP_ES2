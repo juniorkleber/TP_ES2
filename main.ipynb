{
 "cells": [
  {
   "cell_type": "code",
   "execution_count": 4,
   "metadata": {},
   "outputs": [],
   "source": [
    "#modulo para conexão com o bd\n",
    "import pyodbc\n",
    "\n",
    "#modulo de intefaces graficas\n",
    "from tkinter import *\n",
    "\n",
    "from tkinter import ttk\n",
    "\n",
    "#janela principal\n",
    "main_window = Tk()\n",
    "main_window.title(\"Tela de Login\")\n",
    "\n",
    "main_window.configure(bg=\"#f5f5f5\")\n",
    "\n",
    "#Label\n",
    "title_lbl = Label(main_window, text=\"Tela de Login\", font=\"Arial 20\", fg=\"blue\", bg=\"#f5f5f5\")\n",
    "title_lbl.grid(row=0,column=0,columnspan=2, pady=20) \n",
    "\n",
    "username_lbl = Label(main_window, text=\"Nome de Usuário\", font=\"Arial 14 bold\", bg=\"#f5f5f5\")\n",
    "username_lbl.grid(row=1,column=0,sticky=\"e\") #NSEW\n",
    "\n",
    "password_lbl = Label(main_window, text=\"Senha\", font=\"Arial 14 bold\", bg=\"#f5f5f5\")\n",
    "password_lbl.grid(row=2,column=0,sticky=\"e\") #NSEW\n",
    "\n",
    "#Entry\n",
    "username_entry = Entry(main_window, font=\"Arial 14\")\n",
    "username_entry.grid(row=1,column=1,pady=10)\n",
    "\n",
    "password_entry = Entry(main_window, font=\"Arial 14\")\n",
    "password_entry.grid(row=2,column=1, pady=10)\n",
    "\n",
    "#Inicializa Janela\n",
    "main_window.mainloop()\n",
    "\n"
   ]
  }
 ],
 "metadata": {
  "kernelspec": {
   "display_name": "base",
   "language": "python",
   "name": "python3"
  },
  "language_info": {
   "codemirror_mode": {
    "name": "ipython",
    "version": 3
   },
   "file_extension": ".py",
   "mimetype": "text/x-python",
   "name": "python",
   "nbconvert_exporter": "python",
   "pygments_lexer": "ipython3",
   "version": "3.11.5"
  }
 },
 "nbformat": 4,
 "nbformat_minor": 2
}
